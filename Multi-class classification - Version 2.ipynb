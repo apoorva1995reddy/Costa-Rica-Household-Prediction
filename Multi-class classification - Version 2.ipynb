{
 "cells": [
  {
   "cell_type": "code",
   "execution_count": 1,
   "metadata": {},
   "outputs": [
    {
     "name": "stdout",
     "output_type": "stream",
     "text": [
      "Populating the interactive namespace from numpy and matplotlib\n"
     ]
    },
    {
     "name": "stderr",
     "output_type": "stream",
     "text": [
      "C:\\Users\\judge\\Anaconda2\\lib\\site-packages\\IPython\\core\\magics\\pylab.py:161: UserWarning:\n",
      "\n",
      "pylab import has clobbered these variables: ['draw_if_interactive']\n",
      "`%matplotlib` prevents importing * from pylab and numpy\n",
      "\n"
     ]
    }
   ],
   "source": [
    "import pandas as pd\n",
    "import numpy as np\n",
    "from patsy import dmatrices\n",
    "from matplotlib.pyplot import matplotlib\n",
    "from matplotlib.pyplot import *\n",
    "from statsmodels.graphics.mosaicplot import mosaic\n",
    "import seaborn as sns\n",
    "import plotly.plotly as py\n",
    "import plotly.graph_objs as go\n",
    "%pylab inline\n",
    "import warnings\n",
    "warnings.filterwarnings('ignore')"
   ]
  },
  {
   "cell_type": "markdown",
   "metadata": {},
   "source": [
    "# Feature Engineering"
   ]
  },
  {
   "cell_type": "code",
   "execution_count": 2,
   "metadata": {},
   "outputs": [
    {
     "name": "stdout",
     "output_type": "stream",
     "text": [
      "(9557, 143)\n"
     ]
    }
   ],
   "source": [
    "df = pd.read_csv(\"train.csv\",dtype = unicode)\n",
    "print df.shape\n",
    "df[\"v18q1\"] = df[\"v18q1\"].fillna(0)\n",
    "df[\"rez_esc\"] = df[\"rez_esc\"].fillna(0)\n",
    "def transfer_no(string):\n",
    "    return 0\n",
    "df.loc[df[\"edjefe\"] == \"no\",\"edjefe\"] = 0\n",
    "df.loc[df[\"edjefa\"] == \"no\",\"edjefa\"] = 0\n",
    "df.loc[df[\"edjefe\"] == \"yes\",\"edjefe\"] = 1\n",
    "df.loc[df[\"edjefa\"] == \"yes\",\"edjefa\"] = 1\n",
    "for col in df.columns.difference(['Id','idhogar',\"dependency\"]).values:\n",
    "    df[col] = df[col].astype(float)\n",
    "df = df.fillna(0)"
   ]
  },
  {
   "cell_type": "code",
   "execution_count": 3,
   "metadata": {},
   "outputs": [],
   "source": [
    "physical_attr=['epared1', 'epared2', 'epared3','etecho1', 'etecho2', 'etecho3','eviv1', 'eviv1', 'eviv1']"
   ]
  },
  {
   "cell_type": "code",
   "execution_count": 4,
   "metadata": {},
   "outputs": [],
   "source": [
    "# Overall quality of the house \n",
    "df['walls'] = np.argmax(np.array(df[['epared1', 'epared2', 'epared3']]),axis = 1)\n",
    "df['roof']= np.argmax(np.array(df[['etecho1', 'etecho2', 'etecho3']]),axis = 1)\n",
    "df['floor']= np.argmax(np.array(df[['eviv1', 'eviv2', 'eviv3']]),axis = 1)\n",
    "df['overall_quality']=df['walls']+df['roof']+df['floor']\n",
    "df=df.drop(columns=physical_attr)"
   ]
  },
  {
   "cell_type": "code",
   "execution_count": 5,
   "metadata": {},
   "outputs": [],
   "source": [
    "# Basic_necessities flag - covering the houses with no flooring, ceiling, water provision, electricity, \n",
    "df['missing_basic_nec'] =1* (df['pisonotiene']==0) + \\\n",
    "                         (df['cielorazo'] == 0) + \\\n",
    "                         (df['abastaguano'] ==0)+ \\\n",
    "                         (df['noelec'] == 1)+ (df['sanitario1'] == 1) +(df['energcocinar1'] == 1)\n",
    "#df[df['basic_necessities']==5][['pisonotiene','cielorazo','abastaguano','noelec','sanitario1','energcocinar1']]"
   ]
  },
  {
   "cell_type": "code",
   "execution_count": 6,
   "metadata": {},
   "outputs": [],
   "source": [
    "df['Area'] = df['area1'].apply(lambda x: \"urban\" if x==1 else \"rural\")\n",
    "#just for clarity \n",
    "df.loc[df[\"tipovivi2\"] == 1,\"House_Type\"] = \"own and fully paid house\"\n",
    "df.loc[df[\"tipovivi1\"] == 1,\"House_Type\"] = \"own,  paying in installments\"\n",
    "df.loc[df[\"tipovivi3\"] == 1,\"House_Type\"] = \"rented\"\n",
    "df.loc[df[\"tipovivi4\"] == 1,\"House_Type\"] = \"precarious\"\n",
    "df.loc[df[\"tipovivi5\"] == 1,\"House_Type\"] = \"assigned/borrowed\"\n",
    "df.loc[df[\"lugar1\"] == 1,\"Region\"] = \"Central\"\n",
    "df.loc[df[\"lugar2\"] == 1,\"Region\"] = \"Chorotega\"\n",
    "df.loc[df[\"lugar3\"] == 1,\"Region\"] = \"Pacafafico central\"\n",
    "df.loc[df[\"lugar4\"] == 1,\"Region\"] = \"Brunca\"\n",
    "df.loc[df[\"lugar5\"] == 1,\"Region\"] = \"Huetar Atlafantica\"\n",
    "df.loc[df[\"lugar6\"] == 1,\"Region\"] = \"HuetarNorte\"\n",
    "df.loc[df[\"parentesco1\"] == 1,\"Person_Type\"] = \"household head\"\n",
    "df.loc[df[\"parentesco2\"] == 1,\"Person_Type\"] = \"spouse/partner\"\n",
    "df.loc[df[\"parentesco3\"] == 1,\"Person_Type\"] = \"son/daughter\"\n",
    "df.loc[df[\"parentesco4\"] == 1,\"Person_Type\"] = \"stepson/daughter\"\n",
    "df.loc[df[\"parentesco5\"] == 1,\"Person_Type\"] = \"son/daughter in law\"\n",
    "df.loc[df[\"parentesco6\"] == 1,\"Person_Type\"] = \"grandson/daughter\"\n",
    "df.loc[df[\"parentesco7\"] == 1,\"Person_Type\"] = \"mother/father\"\n",
    "df.loc[df[\"parentesco8\"] == 1,\"Person_Type\"] = \"father/mother in law\"\n",
    "df.loc[df[\"parentesco9\"] == 1,\"Person_Type\"] = \"brother/sister\"\n",
    "df.loc[df[\"parentesco10\"] == 1,\"Person_Type\"] = \"brother/sister in law\"\n",
    "df.loc[df[\"parentesco11\"] == 1,\"Person_Type\"] = \"other family member\"\n",
    "df.loc[df[\"parentesco12\"] == 1,\"Person_Type\"] = \"other non family member\""
   ]
  },
  {
   "cell_type": "code",
   "execution_count": 7,
   "metadata": {},
   "outputs": [
    {
     "data": {
      "text/plain": [
       "array(['Id', 'v2a1', 'hacdor', 'rooms', 'hacapo', 'v14a', 'refrig',\n",
       "       'v18q', 'v18q1', 'r4h1', 'r4h2', 'r4h3', 'r4m1', 'r4m2', 'r4m3',\n",
       "       'r4t1', 'r4t2', 'r4t3', 'tamhog', 'tamviv', 'escolari', 'rez_esc',\n",
       "       'hhsize', 'paredblolad', 'paredzocalo', 'paredpreb', 'pareddes',\n",
       "       'paredmad', 'paredzinc', 'paredfibras', 'paredother', 'pisomoscer',\n",
       "       'pisocemento', 'pisoother', 'pisonatur', 'pisonotiene',\n",
       "       'pisomadera', 'techozinc', 'techoentrepiso', 'techocane',\n",
       "       'techootro', 'cielorazo', 'abastaguadentro', 'abastaguafuera',\n",
       "       'abastaguano', 'public', 'planpri', 'noelec', 'coopele',\n",
       "       'sanitario1', 'sanitario2', 'sanitario3', 'sanitario5',\n",
       "       'sanitario6', 'energcocinar1', 'energcocinar2', 'energcocinar3',\n",
       "       'energcocinar4', 'elimbasu1', 'elimbasu2', 'elimbasu3',\n",
       "       'elimbasu4', 'elimbasu5', 'elimbasu6', 'eviv2', 'eviv3', 'dis',\n",
       "       'male', 'female', 'estadocivil1', 'estadocivil2', 'estadocivil3',\n",
       "       'estadocivil4', 'estadocivil5', 'estadocivil6', 'estadocivil7',\n",
       "       'parentesco1', 'parentesco2', 'parentesco3', 'parentesco4',\n",
       "       'parentesco5', 'parentesco6', 'parentesco7', 'parentesco8',\n",
       "       'parentesco9', 'parentesco10', 'parentesco11', 'parentesco12',\n",
       "       'idhogar', 'hogar_nin', 'hogar_adul', 'hogar_mayor', 'hogar_total',\n",
       "       'dependency', 'edjefe', 'edjefa', 'meaneduc', 'instlevel1',\n",
       "       'instlevel2', 'instlevel3', 'instlevel4', 'instlevel5',\n",
       "       'instlevel6', 'instlevel7', 'instlevel8', 'instlevel9', 'bedrooms',\n",
       "       'overcrowding', 'tipovivi1', 'tipovivi2', 'tipovivi3', 'tipovivi4',\n",
       "       'tipovivi5', 'computer', 'television', 'mobilephone',\n",
       "       'qmobilephone', 'lugar1', 'lugar2', 'lugar3', 'lugar4', 'lugar5',\n",
       "       'lugar6', 'area1', 'area2', 'age', 'SQBescolari', 'SQBage',\n",
       "       'SQBhogar_total', 'SQBedjefe', 'SQBhogar_nin', 'SQBovercrowding',\n",
       "       'SQBdependency', 'SQBmeaned', 'agesq', 'Target', 'walls', 'roof',\n",
       "       'floor', 'overall_quality', 'missing_basic_nec', 'Area',\n",
       "       'House_Type', 'Region', 'Person_Type'], dtype=object)"
      ]
     },
     "execution_count": 7,
     "metadata": {},
     "output_type": "execute_result"
    }
   ],
   "source": [
    "df.columns.values"
   ]
  },
  {
   "cell_type": "code",
   "execution_count": 8,
   "metadata": {},
   "outputs": [],
   "source": [
    "#In this script, we'll be applying more complex models. So, the squared features are redundant and are highly correlated \n",
    "# with the original attributes. Hence, eliminating these variables \n",
    "df=df.drop(columns=['SQBescolari', 'SQBage', 'SQBhogar_total', 'SQBedjefe', 'SQBhogar_nin', 'SQBovercrowding', 'SQBdependency', 'SQBmeaned', 'agesq'])"
   ]
  },
  {
   "cell_type": "code",
   "execution_count": 9,
   "metadata": {},
   "outputs": [],
   "source": [
    "#df=df.drop(columns=['tipovivi1', 'tipovivi2','tipovivi3', 'tipovivi4', 'tipovivi5','lugar1', 'lugar2', 'lugar3','lugar4', 'lugar5', 'lugar6','parentesco1', 'parentesco2', 'parentesco3',\n",
    "#                    'parentesco4', 'parentesco5', 'parentesco6', 'parentesco7','parentesco8', 'parentesco9', 'parentesco10', 'parentesco11','parentesco12','area1','area2'])"
   ]
  },
  {
   "cell_type": "code",
   "execution_count": 10,
   "metadata": {},
   "outputs": [
    {
     "data": {
      "text/plain": [
       "(9557, 136)"
      ]
     },
     "execution_count": 10,
     "metadata": {},
     "output_type": "execute_result"
    }
   ],
   "source": [
    "df.shape"
   ]
  },
  {
   "cell_type": "code",
   "execution_count": 11,
   "metadata": {},
   "outputs": [],
   "source": [
    "df = df.drop(columns = [\"Id\",\"dependency\"])"
   ]
  },
  {
   "cell_type": "code",
   "execution_count": 12,
   "metadata": {},
   "outputs": [],
   "source": [
    "# Summarising the attributes on a household level\n",
    "age = df.groupby([\"idhogar\"])[[\"age\"]].mean()\n",
    "school = df.groupby([\"idhogar\"])[[\"escolari\"]].mean()\n",
    "behind_school = df.groupby([\"idhogar\"])[[\"rez_esc\"]].mean()\n",
    "qmobile = df.groupby([\"idhogar\"])[[\"qmobilephone\"]].mean()\n",
    "education = df.groupby([\"idhogar\"])\\\n",
    "[\"instlevel1\",\"instlevel2\",\"instlevel3\",\"instlevel4\",\"instlevel5\",\"instlevel6\",\"instlevel7\",\"instlevel8\",\"instlevel9\"].sum()\n",
    "new_df=df[df['Person_Type'] ==  \"household head\"]\n",
    "new_df = df.drop_duplicates([\"idhogar\"])\n",
    "new_df.shape\n",
    "new_df = new_df.set_index([\"idhogar\"])\n",
    "#Removing individual level columns \n",
    "new_df = new_df.drop(columns=['instlevel1','v18q',\\\n",
    "       'instlevel2', 'instlevel3', 'instlevel4', 'instlevel5',\\\n",
    "       'instlevel6', 'instlevel7', 'instlevel8', 'instlevel9',\\\n",
    "       'dis', 'male', 'female', 'estadocivil1', 'estadocivil2',\\\n",
    "       'estadocivil3', 'estadocivil4', 'estadocivil5', 'estadocivil6',\\\n",
    "       'estadocivil7','r4h3','r4m3','r4t1',\"age\",\n",
    "       'r4t2', 'r4t3','qmobilephone',\"rez_esc\",'Person_Type'])\n",
    "#'Labor' = # of independent people (Size of household-(<19yrs old + >65+ yrs old))\n",
    "new_df[\"Labor\"] = (new_df[\"hogar_total\"] - new_df[\"hogar_mayor\"] - new_df[\"hogar_nin\"])\n",
    "new_df[\"supportRate\"] = new_df[\"Labor\"]/(new_df[\"hogar_total\"])\n",
    "# Joining the summairsed attributes with already existing household level attributes \n",
    "df_family = new_df.merge(age, left_index=True, right_index=True).\\\n",
    "    merge(behind_school, left_index=True, right_index=True).\\\n",
    "    merge(qmobile, left_index=True, right_index=True).\\\n",
    "    merge(education, left_index=True, right_index=True)"
   ]
  },
  {
   "cell_type": "code",
   "execution_count": 13,
   "metadata": {},
   "outputs": [
    {
     "data": {
      "text/plain": [
       "(2988, 118)"
      ]
     },
     "execution_count": 13,
     "metadata": {},
     "output_type": "execute_result"
    }
   ],
   "source": [
    "df_family.shape"
   ]
  },
  {
   "cell_type": "code",
   "execution_count": 14,
   "metadata": {},
   "outputs": [],
   "source": [
    "# Further dimenionality reduction based on the correlation matrix \n",
    "corr_matrix = df_family.corr()\n",
    "upper = corr_matrix.where(np.triu(np.ones(corr_matrix.shape), k=1).astype(np.bool))"
   ]
  },
  {
   "cell_type": "markdown",
   "metadata": {},
   "source": [
    "Even before running the correlation matrix, the below four columns convey the same information\n",
    "\n",
    "tamhog, size of the household\n",
    "\n",
    "tamviv, number of persons living in the household\n",
    "\n",
    "hhsize, household size\n",
    "\n",
    "hogar_total, # of total individuals in the household\n",
    "\n",
    "Let's see if this shows up in the correaltion matrix"
   ]
  },
  {
   "cell_type": "code",
   "execution_count": 15,
   "metadata": {},
   "outputs": [
    {
     "data": {
      "text/plain": [
       "['hhsize', 'coopele', 'hogar_total', 'area2']"
      ]
     },
     "execution_count": 15,
     "metadata": {},
     "output_type": "execute_result"
    }
   ],
   "source": [
    "# Dropping columns with correlation>0.95\n",
    "to_drop = [column for column in upper.columns if any(abs(upper[column]) > 0.95)]\n",
    "to_drop"
   ]
  },
  {
   "cell_type": "code",
   "execution_count": 16,
   "metadata": {},
   "outputs": [
    {
     "data": {
      "text/plain": [
       "<matplotlib.axes._subplots.AxesSubplot at 0xe108cc0>"
      ]
     },
     "execution_count": 16,
     "metadata": {},
     "output_type": "execute_result"
    },
    {
     "data": {
      "image/png": "[encoded data removed]",
      "text/plain": [
       "<Figure size 432x288 with 2 Axes>"
      ]
     },
     "metadata": {
      "needs_background": "light"
     },
     "output_type": "display_data"
    }
   ],
   "source": [
    "sns.heatmap(corr_matrix.loc[corr_matrix['tamhog'].abs() > 0.9, corr_matrix['tamhog'].abs() > 0.9],\n",
    "            annot=True, fmt='.3f')\n",
    "#tamviv is different because number of people living has different meaning than the absolute size of the household i.e. why it \n",
    "# has a slightly less correlation while others as expected ha perfect correlation of 1. Hnece, must be dropped "
   ]
  },
  {
   "cell_type": "code",
   "execution_count": 17,
   "metadata": {},
   "outputs": [
    {
     "data": {
      "text/html": [
       "<div>\n",
       "<style scoped>\n",
       "    .dataframe tbody tr th:only-of-type {\n",
       "        vertical-align: middle;\n",
       "    }\n",
       "\n",
       "    .dataframe tbody tr th {\n",
       "        vertical-align: top;\n",
       "    }\n",
       "\n",
       "    .dataframe thead th {\n",
       "        text-align: right;\n",
       "    }\n",
       "</style>\n",
       "<table border=\"1\" class=\"dataframe\">\n",
       "  <thead>\n",
       "    <tr style=\"text-align: right;\">\n",
       "      <th></th>\n",
       "      <th>public</th>\n",
       "      <th>coopele</th>\n",
       "    </tr>\n",
       "  </thead>\n",
       "  <tbody>\n",
       "    <tr>\n",
       "      <th>public</th>\n",
       "      <td>1.000</td>\n",
       "      <td>-0.975</td>\n",
       "    </tr>\n",
       "    <tr>\n",
       "      <th>coopele</th>\n",
       "      <td>-0.975</td>\n",
       "      <td>1.000</td>\n",
       "    </tr>\n",
       "  </tbody>\n",
       "</table>\n",
       "</div>"
      ],
      "text/plain": [
       "         public  coopele\n",
       "public    1.000   -0.975\n",
       "coopele  -0.975    1.000"
      ]
     },
     "execution_count": 17,
     "metadata": {},
     "output_type": "execute_result"
    }
   ],
   "source": [
    "# coopele- 'electricity from cooperative' \n",
    "corr_matrix.loc[corr_matrix['coopele'].abs() > 0.9, corr_matrix['coopele'].abs() > 0.9]"
   ]
  },
  {
   "cell_type": "markdown",
   "metadata": {},
   "source": [
    "public, \"=1 electricity from CNFL,  ICE,  ESPH/JASEC\" ;    \n",
    "planpri, =1 electricity from private plant;  \n",
    "noelec, =1 no electricity in the dwelling;   \n",
    "coopele, =1 electricity from cooperative; "
   ]
  },
  {
   "cell_type": "code",
   "execution_count": 18,
   "metadata": {},
   "outputs": [],
   "source": [
    "df_family.loc[df_family[\"public\"] == 1,\"electricity_Type\"] = \"public\"\n",
    "df_family.loc[df_family[\"planpri\"] == 1,\"electricity_Type\"] = \"planpri\"\n",
    "df_family.loc[df_family[\"noelec\"] == 1,\"electricity_Type\"] = \"noelec\"\n",
    "df_family.loc[df_family[\"coopele\"] == 1,\"electricity_Type\"] = \"coopele\""
   ]
  },
  {
   "cell_type": "code",
   "execution_count": 19,
   "metadata": {},
   "outputs": [],
   "source": [
    "df_family=df_family.drop(columns = [\"public\", \"planpri\", \"noelec\",\"coopele\",'hhsize','hogar_total'])"
   ]
  },
  {
   "cell_type": "code",
   "execution_count": 20,
   "metadata": {},
   "outputs": [
    {
     "data": {
      "text/plain": [
       "(2988, 113)"
      ]
     },
     "execution_count": 20,
     "metadata": {},
     "output_type": "execute_result"
    }
   ],
   "source": [
    "df_family.shape"
   ]
  },
  {
   "cell_type": "code",
   "execution_count": 21,
   "metadata": {},
   "outputs": [
    {
     "data": {
      "text/plain": [
       "array(['v2a1', 'hacdor', 'rooms', 'hacapo', 'v14a', 'refrig', 'v18q1',\n",
       "       'r4h1', 'r4h2', 'r4m1', 'r4m2', 'tamhog', 'tamviv', 'escolari',\n",
       "       'paredblolad', 'paredzocalo', 'paredpreb', 'pareddes', 'paredmad',\n",
       "       'paredzinc', 'paredfibras', 'paredother', 'pisomoscer',\n",
       "       'pisocemento', 'pisoother', 'pisonatur', 'pisonotiene',\n",
       "       'pisomadera', 'techozinc', 'techoentrepiso', 'techocane',\n",
       "       'techootro', 'cielorazo', 'abastaguadentro', 'abastaguafuera',\n",
       "       'abastaguano', 'sanitario1', 'sanitario2', 'sanitario3',\n",
       "       'sanitario5', 'sanitario6', 'energcocinar1', 'energcocinar2',\n",
       "       'energcocinar3', 'energcocinar4', 'elimbasu1', 'elimbasu2',\n",
       "       'elimbasu3', 'elimbasu4', 'elimbasu5', 'elimbasu6', 'eviv2',\n",
       "       'eviv3', 'parentesco1', 'parentesco2', 'parentesco3',\n",
       "       'parentesco4', 'parentesco5', 'parentesco6', 'parentesco7',\n",
       "       'parentesco8', 'parentesco9', 'parentesco10', 'parentesco11',\n",
       "       'parentesco12', 'hogar_nin', 'hogar_adul', 'hogar_mayor', 'edjefe',\n",
       "       'edjefa', 'meaneduc', 'bedrooms', 'overcrowding', 'tipovivi1',\n",
       "       'tipovivi2', 'tipovivi3', 'tipovivi4', 'tipovivi5', 'computer',\n",
       "       'television', 'mobilephone', 'lugar1', 'lugar2', 'lugar3',\n",
       "       'lugar4', 'lugar5', 'lugar6', 'area1', 'area2', 'Target', 'walls',\n",
       "       'roof', 'floor', 'overall_quality', 'missing_basic_nec', 'Area',\n",
       "       'House_Type', 'Region', 'Labor', 'supportRate', 'age', 'rez_esc',\n",
       "       'qmobilephone', 'instlevel1', 'instlevel2', 'instlevel3',\n",
       "       'instlevel4', 'instlevel5', 'instlevel6', 'instlevel7',\n",
       "       'instlevel8', 'instlevel9', 'electricity_Type'], dtype=object)"
      ]
     },
     "execution_count": 21,
     "metadata": {},
     "output_type": "execute_result"
    }
   ],
   "source": [
    "df_family.columns.values"
   ]
  },
  {
   "cell_type": "code",
   "execution_count": 22,
   "metadata": {},
   "outputs": [
    {
     "data": {
      "text/html": [
       "<div>\n",
       "<style scoped>\n",
       "    .dataframe tbody tr th:only-of-type {\n",
       "        vertical-align: middle;\n",
       "    }\n",
       "\n",
       "    .dataframe tbody tr th {\n",
       "        vertical-align: top;\n",
       "    }\n",
       "\n",
       "    .dataframe thead th {\n",
       "        text-align: right;\n",
       "    }\n",
       "</style>\n",
       "<table border=\"1\" class=\"dataframe\">\n",
       "  <thead>\n",
       "    <tr style=\"text-align: right;\">\n",
       "      <th></th>\n",
       "      <th>0</th>\n",
       "    </tr>\n",
       "  </thead>\n",
       "  <tbody>\n",
       "    <tr>\n",
       "      <th>walls</th>\n",
       "      <td>int64</td>\n",
       "    </tr>\n",
       "    <tr>\n",
       "      <th>roof</th>\n",
       "      <td>int64</td>\n",
       "    </tr>\n",
       "    <tr>\n",
       "      <th>floor</th>\n",
       "      <td>int64</td>\n",
       "    </tr>\n",
       "    <tr>\n",
       "      <th>overall_quality</th>\n",
       "      <td>int64</td>\n",
       "    </tr>\n",
       "    <tr>\n",
       "      <th>missing_basic_nec</th>\n",
       "      <td>int32</td>\n",
       "    </tr>\n",
       "    <tr>\n",
       "      <th>Area</th>\n",
       "      <td>object</td>\n",
       "    </tr>\n",
       "    <tr>\n",
       "      <th>House_Type</th>\n",
       "      <td>object</td>\n",
       "    </tr>\n",
       "    <tr>\n",
       "      <th>Region</th>\n",
       "      <td>object</td>\n",
       "    </tr>\n",
       "    <tr>\n",
       "      <th>electricity_Type</th>\n",
       "      <td>object</td>\n",
       "    </tr>\n",
       "  </tbody>\n",
       "</table>\n",
       "</div>"
      ],
      "text/plain": [
       "                        0\n",
       "walls               int64\n",
       "roof                int64\n",
       "floor               int64\n",
       "overall_quality     int64\n",
       "missing_basic_nec   int32\n",
       "Area               object\n",
       "House_Type         object\n",
       "Region             object\n",
       "electricity_Type   object"
      ]
     },
     "execution_count": 22,
     "metadata": {},
     "output_type": "execute_result"
    }
   ],
   "source": [
    "df_type=pd.DataFrame(df_family.dtypes)\n",
    "df_type[df_type[0]!='float64']"
   ]
  },
  {
   "cell_type": "markdown",
   "metadata": {},
   "source": [
    "# Modelling"
   ]
  },
  {
   "cell_type": "code",
   "execution_count": 23,
   "metadata": {},
   "outputs": [],
   "source": [
    "# Imputing the missing values and scaling the attributes values for comparision between models \n",
    "from sklearn.impute import SimpleImputer\n",
    "from sklearn.preprocessing import MinMaxScaler\n",
    "from sklearn.pipeline import Pipeline\n",
    "pipeline = Pipeline([('imputer', SimpleImputer(missing_values=np.nan, strategy='median')), \n",
    "                      ('scaler', MinMaxScaler())])\n"
   ]
  },
  {
   "cell_type": "code",
   "execution_count": 24,
   "metadata": {},
   "outputs": [],
   "source": [
    "train_X = pipeline.fit_transform(df_family.drop(columns=['Target','Area','House_Type','Region','electricity_Type']))"
   ]
  },
  {
   "cell_type": "code",
   "execution_count": 25,
   "metadata": {},
   "outputs": [],
   "source": [
    "features=df_family.drop(columns=['Target','Area','House_Type','Region','electricity_Type']).columns"
   ]
  },
  {
   "cell_type": "code",
   "execution_count": 26,
   "metadata": {},
   "outputs": [],
   "source": [
    "train_Y=np.array(list(df_family['Target'])).astype(int)"
   ]
  },
  {
   "cell_type": "markdown",
   "metadata": {},
   "source": [
    "Reason to choose F1_score \n",
    "\n",
    "For imbalanced datasets, F1-score (a weighted average of precision and recall) stands as a better measure of classifier quality."
   ]
  },
  {
   "cell_type": "code",
   "execution_count": 27,
   "metadata": {},
   "outputs": [],
   "source": [
    "from sklearn.metrics import f1_score, make_scorer, accuracy_score\n",
    "scorer = make_scorer(f1_score, greater_is_better=True, average = 'macro')\n",
    "scoring = {'accuracy': make_scorer(accuracy_score),'f1_score':make_scorer(f1_score, greater_is_better=True, average = 'macro')}"
   ]
  },
  {
   "cell_type": "code",
   "execution_count": 28,
   "metadata": {},
   "outputs": [
    {
     "data": {
      "text/plain": [
       "{'accuracy': make_scorer(accuracy_score),\n",
       " 'f1_score': make_scorer(f1_score, average=macro)}"
      ]
     },
     "execution_count": 28,
     "metadata": {},
     "output_type": "execute_result"
    }
   ],
   "source": [
    "scoring"
   ]
  },
  {
   "cell_type": "code",
   "execution_count": 29,
   "metadata": {},
   "outputs": [],
   "source": [
    "from sklearn.model_selection import cross_val_score\n",
    "from sklearn.model_selection import cross_validate\n",
    "model_output=pd.DataFrame()\n",
    "model_output=pd.DataFrame(columns=['Model','F1score','F1score_std','Accuracy','Accuracy_std'])\n",
    "def output(train_X,train_Y,model,model_name,model_output=None):\n",
    "    #cvscores = cross_val_score(model, train_X, train_Y, cv = 10, scoring=scorer, n_jobs = -1)\n",
    "    cvscores = cross_validate(model, train_X, train_Y, cv = 10, scoring=scoring, n_jobs = -1)\n",
    "    #print cvscores['test_accuracy'].mean()\n",
    "    #print cvscores['test_f1_score'].mean()\n",
    "    if model_output is not None:\n",
    "        model_output = model_output.append(pd.DataFrame({'Model': model_name,\n",
    "                                                           'F1score': cvscores['test_f1_score'].mean(),\\\n",
    "                                                         'F1score_std':cvscores['test_f1_score'].std(),\\\n",
    "                                                            'Accuracy':cvscores['test_accuracy'].mean(),\\\n",
    "                                                        'Accuracy_std':cvscores['test_accuracy'].std()},index = [0]),ignore_index = True)\n",
    "        return model_output"
   ]
  },
  {
   "cell_type": "markdown",
   "metadata": {},
   "source": [
    "model_output = output(train_X, train_Y,RandomForestClassifier(100, random_state=10, n_jobs = -1),\\\n",
    "                      'RandomForest', model_output)"
   ]
  },
  {
   "cell_type": "markdown",
   "metadata": {},
   "source": [
    "model_output"
   ]
  },
  {
   "cell_type": "markdown",
   "metadata": {},
   "source": [
    "# Trying out different models "
   ]
  },
  {
   "cell_type": "code",
   "execution_count": 31,
   "metadata": {},
   "outputs": [],
   "source": [
    "#Random Forest \n",
    "from sklearn.ensemble import RandomForestClassifier\n",
    "model_output = output(train_X, train_Y,RandomForestClassifier(100, random_state=10, n_jobs = -1),\\\n",
    "                      'RandomForest', model_output)"
   ]
  },
  {
   "cell_type": "code",
   "execution_count": 33,
   "metadata": {},
   "outputs": [],
   "source": [
    "#Support Vector Machines\n",
    "from sklearn.svm import LinearSVC\n",
    "model_output = output(train_X, train_Y,LinearSVC(),'LinearSVC', model_output)"
   ]
  },
  {
   "cell_type": "code",
   "execution_count": 34,
   "metadata": {},
   "outputs": [],
   "source": [
    "#Linear Discriminant Analysis\n",
    "from sklearn.discriminant_analysis import LinearDiscriminantAnalysis\n",
    "model_output = output(train_X, train_Y,LinearDiscriminantAnalysis(),'LDA', model_output)"
   ]
  },
  {
   "cell_type": "code",
   "execution_count": 35,
   "metadata": {},
   "outputs": [],
   "source": [
    "#Multi-layer Perceptron\n",
    "from sklearn.neural_network import MLPClassifier\n",
    "model_output = output(train_X, train_Y,MLPClassifier(solver='lbfgs', alpha=1e-5,hidden_layer_sizes=(5, 2),random_state=1),\\\n",
    "                      'MLP', model_output)"
   ]
  },
  {
   "cell_type": "code",
   "execution_count": 36,
   "metadata": {},
   "outputs": [],
   "source": [
    "# KNN\n",
    "from sklearn.neighbors import KNeighborsClassifier\n",
    "model_output = output(train_X, train_Y,KNeighborsClassifier(n_neighbors = 10),'KNN-10', model_output)"
   ]
  },
  {
   "cell_type": "markdown",
   "metadata": {},
   "source": [
    "ExtraTrees classifier always tests random splits over fraction of features (in contrast to RandomForest, which tests all possible splits over fraction of features)"
   ]
  },
  {
   "cell_type": "code",
   "execution_count": 37,
   "metadata": {},
   "outputs": [],
   "source": [
    "# ExtraTrees Classifier\n",
    "from sklearn.ensemble import ExtraTreesClassifier\n",
    "model_output = output(train_X, train_Y,ExtraTreesClassifier(n_estimators = 100),'Extratrees', model_output)"
   ]
  },
  {
   "cell_type": "markdown",
   "metadata": {},
   "source": [
    "Recursive feature elimination with cross-validated is selection of the best number of features based on the feature importance scores. At each iteration, this method removes either a fraction of features. The iterations continue until the cross validation score no longer improves. The selector in the model lists out the ranking of the features and only the features with rank 1 are retained. "
   ]
  },
  {
   "cell_type": "code",
   "execution_count": 38,
   "metadata": {},
   "outputs": [
    {
     "name": "stdout",
     "output_type": "stream",
     "text": [
      "16\n"
     ]
    }
   ],
   "source": [
    "# Recursive Feature Elimination with Cross Validation - Random Forest\n",
    "from sklearn.feature_selection import RFECV\n",
    "RF_estimator=RandomForestClassifier(random_state = 10, n_estimators = 100,  n_jobs = -1)\n",
    "selector=RFECV(RF_estimator, step =1, cv = 4, scoring= scorer, n_jobs = -1)\n",
    "selector.fit(train_X, train_Y)\n",
    "print (selector.n_features_)"
   ]
  },
  {
   "cell_type": "code",
   "execution_count": 39,
   "metadata": {},
   "outputs": [],
   "source": [
    "train_X_df= pd.DataFrame(train_X, columns = features)\n",
    "selected_features = train_X_df.columns[np.where(selector.ranking_==1)]\n",
    "train_selected = pd.DataFrame(selector.transform(train_X), columns = selected_features)\n",
    "model_output = output(train_selected, train_Y, RandomForestClassifier(random_state = 10, n_estimators = 100,  n_jobs = -1),\\\n",
    "                      'RF_RFECV', model_output)"
   ]
  },
  {
   "cell_type": "code",
   "execution_count": 40,
   "metadata": {},
   "outputs": [],
   "source": [
    "#XGBoost\n",
    "import xgboost as xgb\n",
    "model_output = output(train_X, train_Y,xgb.XGBClassifier(max_depth=3, n_estimators=300, learning_rate=0.05),\\\n",
    "                      'XGB', model_output)"
   ]
  },
  {
   "cell_type": "markdown",
   "metadata": {},
   "source": [
    "Early stopping support in Gradient Boosting enables us to find the least number of iterations which is sufficient to build a model that generalizes well to unseen data. 'validation_fraction' parameter in the below chunk denotes the fraction of the  dataset that will be kept aside from training to assess the validation loss of the model when each additional stage of regression tree is added. This is continued until the scores of the model in the last n_iter_no_change stages do not improve by atleast tol.\n",
    "Gradient Boosting though might not improve the score, but it provides computational efficiency as you can see the run time difference below. "
   ]
  },
  {
   "cell_type": "code",
   "execution_count": 41,
   "metadata": {},
   "outputs": [
    {
     "name": "stdout",
     "output_type": "stream",
     "text": [
      "GB-time 12.2289998531\n",
      "GB with early stopping-time 1.71500015259\n"
     ]
    }
   ],
   "source": [
    "# Early stopping of Gradient Boosting \n",
    "# We specify that if the scores don't improve by atleast 0.01 for the last\n",
    "# 10 stages, stop fitting additional stages\n",
    "from sklearn import ensemble\n",
    "n_estimators=300\n",
    "gb = ensemble.GradientBoostingClassifier(n_estimators=n_estimators,\n",
    "                                             random_state=0)\n",
    "gb_es = ensemble.GradientBoostingClassifier(n_estimators=n_estimators,\n",
    "                                               validation_fraction=0.2,\n",
    "                                               n_iter_no_change=5, tol=0.01,\n",
    "                                               random_state=0)\n",
    "start = time.time()\n",
    "gb.fit(train_X, train_Y)\n",
    "print \"GB-time\", (time.time() - start)\n",
    "start = time.time()\n",
    "gb_es.fit(train_X,train_Y)\n",
    "print \"GB with early stopping-time\", (time.time() - start)\n",
    "model_output = output(train_X, train_Y,gb,'GB', model_output)\n",
    "model_output = output(train_X, train_Y,gb,'GB_Earlystopping', model_output)"
   ]
  },
  {
   "cell_type": "code",
   "execution_count": 42,
   "metadata": {},
   "outputs": [
    {
     "name": "stdout",
     "output_type": "stream",
     "text": [
      "Number of stages of the final model with early stopping: 44\n"
     ]
    }
   ],
   "source": [
    "print \"Number of stages of the final model with early stopping:\",(gb_es.n_estimators_)"
   ]
  },
  {
   "cell_type": "code",
   "execution_count": 43,
   "metadata": {},
   "outputs": [
    {
     "data": {
      "text/html": [
       "<div>\n",
       "<style scoped>\n",
       "    .dataframe tbody tr th:only-of-type {\n",
       "        vertical-align: middle;\n",
       "    }\n",
       "\n",
       "    .dataframe tbody tr th {\n",
       "        vertical-align: top;\n",
       "    }\n",
       "\n",
       "    .dataframe thead th {\n",
       "        text-align: right;\n",
       "    }\n",
       "</style>\n",
       "<table border=\"1\" class=\"dataframe\">\n",
       "  <thead>\n",
       "    <tr style=\"text-align: right;\">\n",
       "      <th></th>\n",
       "      <th>Accuracy</th>\n",
       "      <th>Accuracy_std</th>\n",
       "      <th>F1score</th>\n",
       "      <th>F1score_std</th>\n",
       "      <th>Model</th>\n",
       "    </tr>\n",
       "  </thead>\n",
       "  <tbody>\n",
       "    <tr>\n",
       "      <th>0</th>\n",
       "      <td>0.653806</td>\n",
       "      <td>0.034859</td>\n",
       "      <td>0.319113</td>\n",
       "      <td>0.044318</td>\n",
       "      <td>RandomForest</td>\n",
       "    </tr>\n",
       "    <tr>\n",
       "      <th>1</th>\n",
       "      <td>0.581171</td>\n",
       "      <td>0.119602</td>\n",
       "      <td>0.266380</td>\n",
       "      <td>0.034250</td>\n",
       "      <td>LinearSVC</td>\n",
       "    </tr>\n",
       "    <tr>\n",
       "      <th>2</th>\n",
       "      <td>0.568383</td>\n",
       "      <td>0.138894</td>\n",
       "      <td>0.304514</td>\n",
       "      <td>0.060784</td>\n",
       "      <td>LDA</td>\n",
       "    </tr>\n",
       "    <tr>\n",
       "      <th>3</th>\n",
       "      <td>0.559268</td>\n",
       "      <td>0.162280</td>\n",
       "      <td>0.247642</td>\n",
       "      <td>0.067310</td>\n",
       "      <td>MLP</td>\n",
       "    </tr>\n",
       "    <tr>\n",
       "      <th>4</th>\n",
       "      <td>0.594735</td>\n",
       "      <td>0.064468</td>\n",
       "      <td>0.248609</td>\n",
       "      <td>0.031710</td>\n",
       "      <td>KNN-10</td>\n",
       "    </tr>\n",
       "    <tr>\n",
       "      <th>5</th>\n",
       "      <td>0.615517</td>\n",
       "      <td>0.079780</td>\n",
       "      <td>0.278695</td>\n",
       "      <td>0.046255</td>\n",
       "      <td>Extratrees</td>\n",
       "    </tr>\n",
       "    <tr>\n",
       "      <th>6</th>\n",
       "      <td>0.663642</td>\n",
       "      <td>0.018748</td>\n",
       "      <td>0.356524</td>\n",
       "      <td>0.041731</td>\n",
       "      <td>RF_RFECV</td>\n",
       "    </tr>\n",
       "    <tr>\n",
       "      <th>7</th>\n",
       "      <td>0.599959</td>\n",
       "      <td>0.115732</td>\n",
       "      <td>0.298528</td>\n",
       "      <td>0.068441</td>\n",
       "      <td>XGB</td>\n",
       "    </tr>\n",
       "    <tr>\n",
       "      <th>8</th>\n",
       "      <td>0.567304</td>\n",
       "      <td>0.144097</td>\n",
       "      <td>0.304823</td>\n",
       "      <td>0.066827</td>\n",
       "      <td>GB</td>\n",
       "    </tr>\n",
       "    <tr>\n",
       "      <th>9</th>\n",
       "      <td>0.567304</td>\n",
       "      <td>0.144097</td>\n",
       "      <td>0.304823</td>\n",
       "      <td>0.066827</td>\n",
       "      <td>GB_Earlystopping</td>\n",
       "    </tr>\n",
       "  </tbody>\n",
       "</table>\n",
       "</div>"
      ],
      "text/plain": [
       "   Accuracy  Accuracy_std   F1score  F1score_std             Model\n",
       "0  0.653806      0.034859  0.319113     0.044318      RandomForest\n",
       "1  0.581171      0.119602  0.266380     0.034250         LinearSVC\n",
       "2  0.568383      0.138894  0.304514     0.060784               LDA\n",
       "3  0.559268      0.162280  0.247642     0.067310               MLP\n",
       "4  0.594735      0.064468  0.248609     0.031710            KNN-10\n",
       "5  0.615517      0.079780  0.278695     0.046255        Extratrees\n",
       "6  0.663642      0.018748  0.356524     0.041731          RF_RFECV\n",
       "7  0.599959      0.115732  0.298528     0.068441               XGB\n",
       "8  0.567304      0.144097  0.304823     0.066827                GB\n",
       "9  0.567304      0.144097  0.304823     0.066827  GB_Earlystopping"
      ]
     },
     "execution_count": 43,
     "metadata": {},
     "output_type": "execute_result"
    }
   ],
   "source": [
    "model_output"
   ]
  },
  {
   "cell_type": "code",
   "execution_count": 51,
   "metadata": {},
   "outputs": [
    {
     "data": {
      "text/plain": [
       "<matplotlib.axes._subplots.AxesSubplot at 0x150e4fd0>"
      ]
     },
     "execution_count": 51,
     "metadata": {},
     "output_type": "execute_result"
    },
    {
     "data": {
      "image/png": "[encoded data removed]",
      "text/plain": [
       "<Figure size 432x288 with 1 Axes>"
      ]
     },
     "metadata": {
      "needs_background": "light"
     },
     "output_type": "display_data"
    }
   ],
   "source": [
    "model_output.set_index('Model', inplace = True)\n",
    "model_output['F1score'].sort_values(ascending=False).plot(kind='bar')"
   ]
  },
  {
   "cell_type": "markdown",
   "metadata": {},
   "source": [
    "I have considered the default values as hyper parameters for the above models i.e. there was no tuning of paramaters. \n",
    "However, using GridSearchCV we can select the best hyperparameters for the same models which can give us a better comparision of models (at the cost of computational speed)"
   ]
  },
  {
   "cell_type": "markdown",
   "metadata": {},
   "source": [
    "However, we can observe that ensemble tree based methods are the top performing models as expected. Let us know apply the model and look at the confusion matrix "
   ]
  },
  {
   "cell_type": "code",
   "execution_count": 54,
   "metadata": {},
   "outputs": [
    {
     "data": {
      "text/plain": [
       "RandomForestClassifier(bootstrap=True, class_weight=None, criterion='gini',\n",
       "            max_depth=None, max_features='auto', max_leaf_nodes=None,\n",
       "            min_impurity_decrease=0.0, min_impurity_split=None,\n",
       "            min_samples_leaf=1, min_samples_split=2,\n",
       "            min_weight_fraction_leaf=0.0, n_estimators=100, n_jobs=-1,\n",
       "            oob_score=False, random_state=10, verbose=0, warm_start=False)"
      ]
     },
     "execution_count": 54,
     "metadata": {},
     "output_type": "execute_result"
    }
   ],
   "source": [
    "#Trying out the best model\n",
    "from sklearn.metrics import confusion_matrix\n",
    "from sklearn.feature_selection import RFECV\n",
    "RF_estimator=RandomForestClassifier(random_state = 10, n_estimators = 100,  n_jobs = -1)"
   ]
  },
  {
   "cell_type": "code",
   "execution_count": 59,
   "metadata": {},
   "outputs": [
    {
     "data": {
      "text/html": [
       "<div>\n",
       "<style scoped>\n",
       "    .dataframe tbody tr th:only-of-type {\n",
       "        vertical-align: middle;\n",
       "    }\n",
       "\n",
       "    .dataframe tbody tr th {\n",
       "        vertical-align: top;\n",
       "    }\n",
       "\n",
       "    .dataframe thead th {\n",
       "        text-align: right;\n",
       "    }\n",
       "</style>\n",
       "<table border=\"1\" class=\"dataframe\">\n",
       "  <thead>\n",
       "    <tr style=\"text-align: right;\">\n",
       "      <th></th>\n",
       "      <th>1</th>\n",
       "      <th>2</th>\n",
       "      <th>3</th>\n",
       "      <th>4</th>\n",
       "      <th>prediction</th>\n",
       "      <th>confidence</th>\n",
       "    </tr>\n",
       "  </thead>\n",
       "  <tbody>\n",
       "    <tr>\n",
       "      <th>0</th>\n",
       "      <td>0.01</td>\n",
       "      <td>0.12</td>\n",
       "      <td>0.06</td>\n",
       "      <td>0.81</td>\n",
       "      <td>4</td>\n",
       "      <td>0.81</td>\n",
       "    </tr>\n",
       "    <tr>\n",
       "      <th>1</th>\n",
       "      <td>0.00</td>\n",
       "      <td>0.04</td>\n",
       "      <td>0.08</td>\n",
       "      <td>0.88</td>\n",
       "      <td>4</td>\n",
       "      <td>0.88</td>\n",
       "    </tr>\n",
       "    <tr>\n",
       "      <th>2</th>\n",
       "      <td>0.02</td>\n",
       "      <td>0.05</td>\n",
       "      <td>0.06</td>\n",
       "      <td>0.87</td>\n",
       "      <td>4</td>\n",
       "      <td>0.87</td>\n",
       "    </tr>\n",
       "    <tr>\n",
       "      <th>3</th>\n",
       "      <td>0.30</td>\n",
       "      <td>0.32</td>\n",
       "      <td>0.11</td>\n",
       "      <td>0.27</td>\n",
       "      <td>2</td>\n",
       "      <td>0.32</td>\n",
       "    </tr>\n",
       "    <tr>\n",
       "      <th>4</th>\n",
       "      <td>0.02</td>\n",
       "      <td>0.20</td>\n",
       "      <td>0.46</td>\n",
       "      <td>0.32</td>\n",
       "      <td>3</td>\n",
       "      <td>0.46</td>\n",
       "    </tr>\n",
       "  </tbody>\n",
       "</table>\n",
       "</div>"
      ],
      "text/plain": [
       "      1     2     3     4  prediction  confidence\n",
       "0  0.01  0.12  0.06  0.81           4        0.81\n",
       "1  0.00  0.04  0.08  0.88           4        0.88\n",
       "2  0.02  0.05  0.06  0.87           4        0.87\n",
       "3  0.30  0.32  0.11  0.27           2        0.32\n",
       "4  0.02  0.20  0.46  0.32           3        0.46"
      ]
     },
     "execution_count": 59,
     "metadata": {},
     "output_type": "execute_result"
    }
   ],
   "source": [
    "from sklearn.model_selection import train_test_split\n",
    "# Split into validation set\n",
    "X_train, X_test, y_train, y_test = train_test_split(train_selected,\n",
    "                                                      train_Y,\n",
    "                                                      test_size = 0.2,\n",
    "                                                      random_state = 10)\n",
    "RF_estimator.fit(X_train, y_train)\n",
    "pred=RF_estimator.predict_proba(X_test)\n",
    "pred_df = pd.DataFrame(pred, columns = [1, 2, 3, 4])\n",
    "pred_df['prediction'] = pred_df[[1, 2, 3, 4]].idxmax(axis = 1)\n",
    "pred_df['confidence'] = pred_df[[1, 2, 3, 4]].max(axis = 1)\n",
    "pred_df[:5]"
   ]
  },
  {
   "cell_type": "code",
   "execution_count": 94,
   "metadata": {},
   "outputs": [],
   "source": [
    "def plot_confusion_matrix(cm, classes,\n",
    "                          normalize=False,\n",
    "                          title='Confusion matrix',\n",
    "                          cmap=plt.cm.Blues):\n",
    "    \"\"\"\n",
    "    This function prints and plots the confusion matrix.\n",
    "    Normalization can be applied by setting `normalize=True`.\n",
    "    \"\"\"\n",
    "    if normalize:\n",
    "        cm = cm.astype('float') / cm.sum(axis=1)[:, np.newaxis]\n",
    "        print(\"Normalized confusion matrix\")\n",
    "    else:\n",
    "        print('Confusion matrix, without normalization')\n",
    "\n",
    "    print(cm)\n",
    "\n",
    "    plt.imshow(cm, interpolation='nearest', cmap=cmap)\n",
    "    plt.title(title)\n",
    "    plt.colorbar()\n",
    "    tick_marks = np.arange(len(classes))\n",
    "    plt.xticks(tick_marks, classes, rotation=45)\n",
    "    plt.yticks(tick_marks, classes)\n",
    "\n",
    "    fmt = '.2f' if normalize else 'd'\n",
    "    thresh = cm.max() / 2.\n",
    "    for i, j in itertools.product(range(cm.shape[0]), range(cm.shape[1])):\n",
    "        plt.text(j, i, format(cm[i, j], fmt),\n",
    "                 horizontalalignment=\"center\",\n",
    "                 color=\"white\" if cm[i, j] > thresh else \"black\")\n",
    "\n",
    "    plt.ylabel('True label')\n",
    "    plt.xlabel('Predicted label')\n",
    "    plt.tight_layout()"
   ]
  },
  {
   "cell_type": "code",
   "execution_count": 99,
   "metadata": {},
   "outputs": [
    {
     "name": "stdout",
     "output_type": "stream",
     "text": [
      "Confusion matrix, without normalization\n",
      "[[  4  14   1  19]\n",
      " [  7  22   2  54]\n",
      " [  3  12   4  57]\n",
      " [  6  19   5 369]]\n",
      "Normalized confusion matrix\n",
      "[[0.11 0.37 0.03 0.5 ]\n",
      " [0.08 0.26 0.02 0.64]\n",
      " [0.04 0.16 0.05 0.75]\n",
      " [0.02 0.05 0.01 0.92]]\n"
     ]
    },
    {
     "data": {
      "image/png": "[encoded data removed]",
      "text/plain": [
       "<Figure size 432x288 with 2 Axes>"
      ]
     },
     "metadata": {
      "needs_background": "light"
     },
     "output_type": "display_data"
    },
    {
     "data": {
      "image/png": "[encoded data removed]",
      "text/plain": [
       "<Figure size 432x288 with 2 Axes>"
      ]
     },
     "metadata": {
      "needs_background": "light"
     },
     "output_type": "display_data"
    }
   ],
   "source": [
    "# Compute confusion matrix\n",
    "cnf_matrix = confusion_matrix(y_test, pred_df['prediction'])\n",
    "class_names=list(unique(y_test))\n",
    "np.set_printoptions(precision=2)\n",
    "\n",
    "# Plot non-normalized confusion matrix\n",
    "plt.figure()\n",
    "plot_confusion_matrix(cnf_matrix, classes=class_names,\n",
    "                      title='Confusion matrix, without normalization')\n",
    "\n",
    "# Plot normalized confusion matrix\n",
    "plt.figure()\n",
    "plot_confusion_matrix(cnf_matrix, classes=class_names, normalize=True,\n",
    "                      title='Normalized confusion matrix')\n",
    "\n",
    "plt.show()"
   ]
  },
  {
   "cell_type": "code",
   "execution_count": 62,
   "metadata": {},
   "outputs": [
    {
     "name": "stdout",
     "output_type": "stream",
     "text": [
      "F1score: 0.335035022556496\n"
     ]
    }
   ],
   "source": [
    "print \"F1score:\",f1_score(pred_df['prediction'],y_test, average = 'macro')"
   ]
  },
  {
   "cell_type": "code",
   "execution_count": 110,
   "metadata": {},
   "outputs": [
    {
     "data": {
      "text/plain": [
       "4    399\n",
       "2     85\n",
       "3     76\n",
       "1     38\n",
       "dtype: int64"
      ]
     },
     "execution_count": 110,
     "metadata": {},
     "output_type": "execute_result"
    }
   ],
   "source": [
    "pd.Series(y_test).value_counts()"
   ]
  },
  {
   "cell_type": "code",
   "execution_count": 111,
   "metadata": {},
   "outputs": [
    {
     "data": {
      "text/plain": [
       "4    499\n",
       "2     67\n",
       "1     20\n",
       "3     12\n",
       "Name: prediction, dtype: int64"
      ]
     },
     "execution_count": 111,
     "metadata": {},
     "output_type": "execute_result"
    }
   ],
   "source": [
    "pd.Series(pred_df['prediction']).value_counts()"
   ]
  },
  {
   "cell_type": "markdown",
   "metadata": {},
   "source": [
    "The best accuracy we could achieve in multi-class claissification (i.e. across all 4 classes) was just 65% while when we performed binary classification(vulnerable vs non-vulnerable), we noticed 78% accuracy. Our model fails to perform well for the minority classes. Let replace the dataset by well balanced dataset which is obtained by upsampling. (There are also other methods like down sampling, SMOTE etc.) Let's implement and see how it effects the models' performance in the next version of the code."
   ]
  }
 ],
 "metadata": {
  "kernelspec": {
   "display_name": "Python 2",
   "language": "python",
   "name": "python2"
  },
  "language_info": {
   "codemirror_mode": {
    "name": "ipython",
    "version": 2
   },
   "file_extension": ".py",
   "mimetype": "text/x-python",
   "name": "python",
   "nbconvert_exporter": "python",
   "pygments_lexer": "ipython2",
   "version": "2.7.15"
  }
 },
 "nbformat": 4,
 "nbformat_minor": 2
}
